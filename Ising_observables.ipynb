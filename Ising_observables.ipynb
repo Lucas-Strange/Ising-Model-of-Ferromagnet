{
 "cells": [
  {
   "cell_type": "markdown",
   "metadata": {},
   "source": [
    "# Ising Observables "
   ]
  },
  {
   "cell_type": "markdown",
   "metadata": {},
   "source": [
    "In this programme, we calculate the observables as functions of $T$, obtain values for $T_c$ at varying $N$ and hence find $T_c(\\infty)$"
   ]
  },
  {
   "cell_type": "markdown",
   "metadata": {},
   "source": [
    "## Functions"
   ]
  },
  {
   "cell_type": "markdown",
   "metadata": {},
   "source": [
    "Function to Hide/Toggle cells"
   ]
  },
  {
   "cell_type": "code",
   "execution_count": null,
   "metadata": {},
   "outputs": [],
   "source": [
    "from IPython.display import HTML\n",
    "import random\n",
    "\n",
    "def hide_toggle(for_next=False):\n",
    "    this_cell = \"\"\"$('div.cell.code_cell.rendered.selected')\"\"\"\n",
    "    next_cell = this_cell + '.next()'\n",
    "\n",
    "    toggle_text = 'Toggle show/hide'  # text shown on toggle link\n",
    "    target_cell = this_cell  # target cell to control with toggle\n",
    "    js_hide_current = ''  # bit of JS to permanently hide code in current cell (only when toggling next cell)\n",
    "\n",
    "    if for_next:\n",
    "        target_cell = next_cell\n",
    "        toggle_text += ' next cell'\n",
    "        js_hide_current = this_cell + '.find(\"div.input\").hide();'\n",
    "\n",
    "    js_f_name = 'code_toggle_{}'.format(str(random.randint(1,2**64)))\n",
    "\n",
    "    html = \"\"\"\n",
    "        <script>\n",
    "            function {f_name}() {{\n",
    "                {cell_selector}.find('div.input').toggle();\n",
    "            }}\n",
    "\n",
    "            {js_hide_current}\n",
    "        </script>\n",
    "\n",
    "        <a href=\"javascript:{f_name}()\">{toggle_text}</a>\n",
    "    \"\"\".format(\n",
    "        f_name=js_f_name,\n",
    "        cell_selector=target_cell,\n",
    "        js_hide_current=js_hide_current, \n",
    "        toggle_text=toggle_text\n",
    "    )\n",
    "\n",
    "    return HTML(html)\n",
    "\n",
    "hide_toggle()\n"
   ]
  },
  {
   "cell_type": "markdown",
   "metadata": {},
   "source": [
    "Importing libraries/ setting fonts"
   ]
  },
  {
   "cell_type": "code",
   "execution_count": null,
   "metadata": {
    "scrolled": false
   },
   "outputs": [],
   "source": [
    "import numpy as np\n",
    "import matplotlib.pyplot as plt\n",
    "import matplotlib\n",
    "import scipy\n",
    "import imageio\n",
    "import math\n",
    "import pickle \n",
    "from scipy.optimize import curve_fit\n",
    "\n",
    "matplotlib.rcParams['mathtext.fontset'] = 'stix'\n",
    "matplotlib.rcParams['font.family'] = 'STIXGeneral'\n",
    "\n",
    "hide_toggle()"
   ]
  },
  {
   "cell_type": "markdown",
   "metadata": {},
   "source": [
    "#### lattice_same(N)\n",
    "Input: $N$\n",
    "\n",
    "Output: Lattice of size $N \\times N$ where each value is $1$"
   ]
  },
  {
   "cell_type": "code",
   "execution_count": null,
   "metadata": {
    "scrolled": true
   },
   "outputs": [],
   "source": [
    "def lattice_same(N):\n",
    "    output = np.full((N,N),1)\n",
    "    return output\n",
    "\n",
    "hide_toggle()"
   ]
  },
  {
   "cell_type": "markdown",
   "metadata": {},
   "source": [
    "#### lattice_rand(N)\n",
    "Input: $N$\n",
    "\n",
    "Output: Lattice of size $N \\times N$ where each value is randomly assigned $\\pm1$"
   ]
  },
  {
   "cell_type": "code",
   "execution_count": null,
   "metadata": {
    "scrolled": true
   },
   "outputs": [],
   "source": [
    "def lattice_rand(N):\n",
    "    output = (np.random.randint(0,2,size=(N,N))*2 -1)\n",
    "    return output\n",
    "hide_toggle()"
   ]
  },
  {
   "cell_type": "markdown",
   "metadata": {},
   "source": [
    "#### E_array(T)\n",
    "\n",
    "Input: $T$\n",
    "\n",
    "Output: Array of shape (3,10) that contains the $E$, $\\Delta E$ and $P_{flip}$ of a spin given the state of its neighbouring spins.\n",
    "\n",
    "Each column in the array corresponds a different configuration of spins e.g. the first column gives the energy for a down spin surrounded by 4 down spins. This order is seen in Table 2 of the report"
   ]
  },
  {
   "cell_type": "code",
   "execution_count": null,
   "metadata": {
    "scrolled": true
   },
   "outputs": [],
   "source": [
    "def E_array(T):\n",
    "    \n",
    "    #energy of a spin given its nearest neighbours\n",
    "    spin_E_array=([-4,4,-2,2,0,0,2,-2,4,-4])\n",
    "    \n",
    "    #delta_E of flipping the spin (\n",
    "    delta_E_array =np.array([8,-8,4,-4,0,0,-4,4,-8,8])\n",
    "    \n",
    "    P_array = np.array([np.exp(-8/T),1,np.exp(-4/T),1,1,1,1,np.exp(-4/T),1,np.exp(-8/T)])\n",
    "    \n",
    "    \n",
    "    #Forming a single array from these 3 arrays\n",
    "    E_array = np.array([spin_E_array,delta_E_array,P_array])\n",
    "    return E_array\n",
    "\n",
    "hide_toggle()"
   ]
  },
  {
   "cell_type": "markdown",
   "metadata": {},
   "source": [
    "#### lattice_step(lattice,T, step_no)\n",
    "Input: An initial lattice, $T$ and the number of $MCs$ we calculate for\n",
    "\n",
    "Outputs: The state of the lattice and its energy after each $MCs$\n",
    "\n",
    "This function is implemented via a Metropolis algorithm"
   ]
  },
  {
   "cell_type": "code",
   "execution_count": null,
   "metadata": {
    "scrolled": false
   },
   "outputs": [],
   "source": [
    "def lattice_step(lattice,T, step_no):\n",
    "    \n",
    "    lattice_i=lattice.copy()\n",
    "     \n",
    "    #L_size is the number of points on the lattice= N^2\n",
    "    L_size=np.size(lattice_i)\n",
    "    \n",
    "    #N is the length of side of square input lattice\n",
    "    N=math.isqrt(L_size)\n",
    "    \n",
    "    #Creating a blank set of NxN lattices, one for each time step\n",
    "    lattice_set=np.zeros((step_no+1,N,N))\n",
    "    \n",
    "    #Set the first lattice in this step to be the initial lattice\n",
    "    lattice_set[0]=lattice_i\n",
    "    \n",
    "    E_array_local = E_array(T)\n",
    "\n",
    "    #set the initial energy to zero\n",
    "    E_i=0\n",
    "    E_set=[]\n",
    "    #Each t value corresponds to a step in time\n",
    "    \n",
    "    for t in range(step_no+1):\n",
    "        \n",
    "        #Creating a list of numbers assigned to each point on the lattice and then randomly changing the order\n",
    "        \n",
    "        point_list_rand=np.arange(L_size)\n",
    "        np.random.shuffle(point_list_rand)\n",
    "        \n",
    "        \n",
    "        #We then use the % and floor functions to generate a random list of points on the lattice. e.g. x_r[i], y_r[i] gives a\n",
    "        #random co-ordinate on the lattice. Working through all [i] up to N^2, we cover the entire lattice\n",
    "        y_r = (point_list_rand/N).astype(int)\n",
    "        \n",
    "        x_r = point_list_rand%N\n",
    "        \n",
    "        \n",
    "        for i in range(L_size):\n",
    "            y=np.random.rand()\n",
    "        \n",
    "            #we look at the surrounding neighbours of the spin    \n",
    "            neighbour_sum = lattice_i[x_r[i],(y_r[i]+1)%N] + lattice_i[x_r[i],(y_r[i]-1)%N] + lattice_i[(x_r[i]+1)%N,y_r[i]] + lattice_i[(x_r[i]-1)%N,y_r[i]] + lattice_i[x_r[i],y_r[i]]/2\n",
    "           \n",
    "            #based on these neighbours, we pick out a column in E_array, where we obtain a value for E, delta_E \n",
    "            #and P(flip)\n",
    "            array_val = int(neighbour_sum +4.5)\n",
    "            \n",
    "            #For the first time step, we don't flip any of the spins, we just work our way through the lattice \n",
    "            #and calculate the initial energy\n",
    "            \n",
    "            if t==0:\n",
    "                \n",
    "                #The factor of a half accounts for double counting\n",
    "                E_i=0.5*E_array_local[0,array_val] +E_i\n",
    "                \n",
    "                \n",
    "            #For all other steps, we proceed to flip the spins    \n",
    "            else:\n",
    "                if E_array_local[1,array_val]<=0:\n",
    "                    \n",
    "                    #Flip the spin\n",
    "                    lattice_i[x_r[i],y_r[i]]= -lattice_i[x_r[i],y_r[i]]\n",
    "                    \n",
    "                    #Add delta_E to the total energy\n",
    "                    E_i = E_i + E_array_local[1,array_val] \n",
    "                    \n",
    "                elif E_array_local[2,array_val] > y:\n",
    "                    \n",
    "                    #Flip the spin\n",
    "                    lattice_i[x_r[i],y_r[i]]= -lattice_i[x_r[i],y_r[i]]\n",
    "                    \n",
    "                    #Add delta_E to the total energy\n",
    "                    E_i = E_i + E_array_local[1,array_val] \n",
    "                else:\n",
    "                    \n",
    "                    #Leave the spin\n",
    "                    lattice_i[x_r[i],y_r[i]]= lattice_i[x_r[i],y_r[i]]\n",
    "                    \n",
    "                    \n",
    "        lattice_set[t]=lattice_i\n",
    "        E_set = np.append(E_set,E_i)\n",
    "            \n",
    "        \n",
    "    return lattice_set,E_set\n",
    "\n",
    "\n",
    "hide_toggle()"
   ]
  },
  {
   "cell_type": "markdown",
   "metadata": {},
   "source": [
    "#### spin_M(lattice_set)\n",
    "Input: A set of lattices at each $MCs$\n",
    "\n",
    "Output: $m$ at each $MCs$\n"
   ]
  },
  {
   "cell_type": "code",
   "execution_count": null,
   "metadata": {
    "scrolled": true
   },
   "outputs": [],
   "source": [
    "def spin_M(lattice_set):\n",
    "    M= np.sum(lattice_set,(1,2))/(np.size(lattice_set[0]))\n",
    "    \n",
    "    return M\n",
    "\n",
    "hide_toggle()"
   ]
  },
  {
   "cell_type": "markdown",
   "metadata": {},
   "source": [
    "#### spin_M_i(lattice_i,T,step_no)\n",
    "Input: An initial lattice, $T$ and number of $MCs$\n",
    "\n",
    "Output: $m$ at each $MCs$"
   ]
  },
  {
   "cell_type": "code",
   "execution_count": null,
   "metadata": {
    "scrolled": true
   },
   "outputs": [],
   "source": [
    "def spin_M_i(lattice_i,T,step_no):\n",
    "    M= np.sum(lattice_step(lattice_i,T,step_no)[0],(1,2))/(np.size(lattice_i))\n",
    "    \n",
    "    return M\n",
    "\n",
    "hide_toggle()"
   ]
  },
  {
   "cell_type": "markdown",
   "metadata": {},
   "source": [
    "#### SHC(E,Esq,T)\n",
    "\n",
    "Input: $\\langle E \\rangle , \\langle E^2 \\rangle, T$\n",
    "\n",
    "Output: $C$"
   ]
  },
  {
   "cell_type": "code",
   "execution_count": null,
   "metadata": {},
   "outputs": [],
   "source": [
    "def SHC (E,Esq,T):\n",
    "    C=(Esq-E**2)/(T**2)\n",
    "    \n",
    "    return C\n",
    "\n",
    "hide_toggle()"
   ]
  },
  {
   "cell_type": "markdown",
   "metadata": {},
   "source": [
    "#### lattice_step_intrvl(lattice,T,n,delta_t)\n",
    "Input: An initial lattice, $T$, the number of samples we wish to take and the time interval between samples\n",
    "\n",
    "Outputs: The state of the lattice and its energy after each $MCs$\n",
    "\n",
    "This function doesn't record the first 1000 steps so that the system reaches equilibrium "
   ]
  },
  {
   "cell_type": "code",
   "execution_count": null,
   "metadata": {
    "scrolled": false
   },
   "outputs": [],
   "source": [
    "def lattice_step_intrvl(lattice,T,n,delta_t):\n",
    "    \n",
    "    lattice_i=lattice.copy()\n",
    "     \n",
    "    L_size=np.size(lattice_i)\n",
    "    \n",
    "    N=math.isqrt(L_size)\n",
    "    \n",
    "    #Creating a blank set of NxN lattices, one for step we wish to sample at\n",
    "    lattice_set=np.zeros((1,N,N))\n",
    "    \n",
    "    \n",
    "    E_array_local = E_array(T)\n",
    "\n",
    "    #set the initial energy to zero\n",
    "    E_i=0\n",
    "    E_set=[]\n",
    "    #Each t value corresponds to a step in time\n",
    "    \n",
    "    for t in range((n-1)*delta_t+1002):\n",
    "        \n",
    "        #Creating a list of numbers assigned to each point on the lattice and then randomly changing the order\n",
    "        \n",
    "        point_list_rand=np.arange(L_size)\n",
    "        np.random.shuffle(point_list_rand)\n",
    "        \n",
    "        \n",
    "        #We then use the % and floor functions to generate a random list of points on the lattice. e.g. x_r[i], y_r[i] gives a\n",
    "        #random co-ordinate on the lattice. Working through all [i] up to N^2, we cover the entire lattice\n",
    "        y_r = (point_list_rand/N).astype(int)\n",
    "        \n",
    "        x_r = point_list_rand%N\n",
    "        \n",
    "        \n",
    "        for i in range(L_size):\n",
    "            y=np.random.rand()\n",
    "        \n",
    "            #we look as the surrounding neighbours of the spin    \n",
    "            neighbour_sum = lattice_i[x_r[i],(y_r[i]+1)%N] + lattice_i[x_r[i],(y_r[i]-1)%N] + lattice_i[(x_r[i]+1)%N,y_r[i]] + lattice_i[(x_r[i]-1)%N,y_r[i]] + lattice_i[x_r[i],y_r[i]]/2\n",
    "           \n",
    "            #based on these neighbours, we pick out a column in E_array, where we obtain a value for E, delta_E \n",
    "            #and P(flip)\n",
    "            array_val = int(neighbour_sum +4.5)\n",
    "            \n",
    "            #For the first time step, we don't flip any of the spins, we just work our way through the lattice \n",
    "            #and calculate the initial energy\n",
    "            \n",
    "            if t==0:\n",
    "                \n",
    "                #The factor of a half accounts for double counting\n",
    "                E_i=0.5*E_array_local[0,array_val] +E_i\n",
    "                \n",
    "                \n",
    "            #For all other steps, we proceed to flip the spins    \n",
    "            else:\n",
    "                if E_array_local[1,array_val]<=0:\n",
    "                    \n",
    "                    #Flip the spin\n",
    "                    lattice_i[x_r[i],y_r[i]]= -lattice_i[x_r[i],y_r[i]]\n",
    "                    \n",
    "                    #Add delta_E to the total energy\n",
    "                    E_i = E_i + E_array_local[1,array_val] \n",
    "                    \n",
    "                elif E_array_local[2,array_val] > y:\n",
    "                    \n",
    "                    #Flip the spin\n",
    "                    lattice_i[x_r[i],y_r[i]]= -lattice_i[x_r[i],y_r[i]]\n",
    "                    \n",
    "                    #Add delta_E to the total energy\n",
    "                    E_i = E_i + E_array_local[1,array_val] \n",
    "                else:\n",
    "                    \n",
    "                    #Leave the spin\n",
    "                    lattice_i[x_r[i],y_r[i]]= lattice_i[x_r[i],y_r[i]]\n",
    "       \n",
    "        #Here we ignore the first 1000 values and use a mod function to ensure we only count intervals of delta_t\n",
    "        if t>1000 and (t-1001)%delta_t==0:\n",
    "                     \n",
    "            lattice_set=np.append(lattice_set,[lattice_i],axis=0)\n",
    "            E_set = np.append(E_set,E_i)\n",
    "            \n",
    "    \n",
    "    lattice_set=lattice_set[1:]  \n",
    "    return lattice_set,E_set\n",
    "\n",
    "\n",
    "hide_toggle()"
   ]
  },
  {
   "cell_type": "markdown",
   "metadata": {},
   "source": [
    "#### Observables(N)\n",
    "Input:$N$, $T$ we sample at, a set of number of samples we want at each $T$ and a set of time intervals between samples at each $T$\n",
    "\n",
    "Output:[$\\langle E \\rangle , \\langle E^2 \\rangle , \\langle m \\rangle , \\langle |m| \\rangle,\\langle m^2 \\rangle$]"
   ]
  },
  {
   "cell_type": "code",
   "execution_count": null,
   "metadata": {},
   "outputs": [],
   "source": [
    "def observables (N,sample_T,n_set,delta_t_set):\n",
    "    \n",
    "    \n",
    "    #creating an initially random lattice of size NxN\n",
    "    lattice_i=lattice_rand(N)\n",
    "    \n",
    "    #We create blank arrays on the observables we want\n",
    "    \n",
    "    avg_M_Tset=[]\n",
    "    avg_absM_Tset=[]\n",
    "    avg_Msq_Tset=[]\n",
    "    avg_E_Tset=[]\n",
    "    avg_Esq_Tset=[]\n",
    "    \n",
    "    for i in range (len(sample_T)):\n",
    "       \n",
    "\n",
    "        lattice_set = lattice_step_intrvl(lattice_i,sample_T[i],n_set[i],delta_t_set[i])\n",
    "        \n",
    "        \n",
    "        M_set=spin_M(lattice_set[0])\n",
    "        \n",
    "        #Average over each step\n",
    "        avg_M=np.mean(M_set)\n",
    "        \n",
    "        #Add to our observable array at a given temperature\n",
    "        avg_M_Tset=np.append(avg_M_Tset,avg_M)\n",
    "        \n",
    "        #We repeat this for the other observables\n",
    "        Msq_set=M_set**2\n",
    "        avg_Msq=np.mean(Msq_set)\n",
    "        avg_Msq_Tset=np.append(avg_Msq_Tset,avg_Msq)\n",
    "    \n",
    "        absM_set=np.abs(M_set)\n",
    "        avg_absM=np.mean(absM_set)\n",
    "        avg_absM_Tset=np.append(avg_absM_Tset,avg_absM)\n",
    "        \n",
    "        E_set=lattice_set[1]\n",
    "        avg_E=np.mean(E_set)\n",
    "        avg_E_Tset=np.append(avg_E_Tset,avg_E)\n",
    "        \n",
    "        Esq_set=E_set**2\n",
    "        avg_Esq=np.mean(Esq_set)\n",
    "        avg_Esq_Tset=np.append(avg_Esq_Tset,avg_Esq)\n",
    "    \n",
    "        lattice_i=lattice_set[0][n_set[i]-1]\n",
    "        \n",
    "    return avg_M_Tset, avg_absM_Tset, avg_Msq_Tset, avg_E_Tset, avg_Esq_Tset\n",
    "hide_toggle()"
   ]
  },
  {
   "cell_type": "markdown",
   "metadata": {},
   "source": [
    "#### susceptibility (M,Msq,T):\n",
    "\n",
    "Input: $\\langle m \\rangle, \\langle m^2 \\rangle, T$\n",
    "\n",
    "Output: $\\chi$"
   ]
  },
  {
   "cell_type": "code",
   "execution_count": null,
   "metadata": {},
   "outputs": [],
   "source": [
    "def susceptibility (M,Msq,T):\n",
    "    chi=(Msq-M**2)/(T)\n",
    "    \n",
    "    return chi\n",
    "\n",
    "hide_toggle()"
   ]
  },
  {
   "cell_type": "markdown",
   "metadata": {},
   "source": [
    "#### susceptibility_prime(absM,Msq,T)\n",
    "\n",
    "Input: $\\langle |m| \\rangle,\\langle m^2 \\rangle, T$\n",
    "\n",
    "Output: $\\chi'$"
   ]
  },
  {
   "cell_type": "code",
   "execution_count": null,
   "metadata": {},
   "outputs": [],
   "source": [
    "def susceptibility_prime (absM,Msq,T):\n",
    "    chi=(Msq-absM**2)/(T)\n",
    "    return chi\n",
    "hide_toggle()"
   ]
  },
  {
   "cell_type": "markdown",
   "metadata": {},
   "source": [
    "#### blocking_error(N,sample_T,n_set,delta_t_set)\n",
    "\n",
    "\n",
    "Input: Lattice size, $T$ we want to sample at, the number of samples and time interval corresponding to each of these temperature\n",
    "\n",
    "Output: $\\chi$, $C$ and their erros\n",
    "\n",
    "This function works by using a blocking method- for example $C$ is calculated in time blocks, and then finding a deviation of these blocked values gives us an estimate of the overall error"
   ]
  },
  {
   "cell_type": "code",
   "execution_count": null,
   "metadata": {},
   "outputs": [],
   "source": [
    "def blocking_error (N,sample_T,n_set,delta_t_set):\n",
    "    \n",
    "    \n",
    "    #creating an initially random lattice of size NxN\n",
    "    lattice_i=lattice_rand(N)\n",
    "    \n",
    "    #We create blank arrays on the observables we want\n",
    "    sus_total_set=[]\n",
    "    shc_total_set=[]\n",
    "    sus_err_set=[]\n",
    "    shc_err_set=[]\n",
    "    \n",
    "    for i in range (len(sample_T)):\n",
    "        sus_set=[]\n",
    "        shc_set=[]\n",
    "        \n",
    "        lattice_set = lattice_step_intrvl(lattice_i,sample_T[i],n_set[i],delta_t_set[i])\n",
    "        \n",
    "        M_set=spin_M(lattice_set[0])\n",
    "        \n",
    "\n",
    "        #We repeat this for the other observables\n",
    "        Msq_set=M_set**2    \n",
    "        absM_set=np.abs(M_set)  \n",
    "        \n",
    "        E_set=lattice_set[1]\n",
    "        Esq_set=E_set**2\n",
    "        \n",
    "        sus_total_set=np.append(sus_total_set,susceptibility_prime(np.mean(absM_set),np.mean(Msq_set),sample_T[i])*(N**2))\n",
    "        shc_total_set=np.append(shc_total_set,SHC( np.mean(E_set),np.mean(Esq_set),sample_T[i])/(N**2))\n",
    "                                \n",
    "        for j in range(int(n_set[i]/100)):\n",
    "            sus= susceptibility_prime(np.mean(absM_set[j*100:(j+1)*100-1]),np.mean(Msq_set[j*100:(j+1)*100-1]),sample_T[i])*(N**2)\n",
    "            sus_set=np.append(sus_set,sus)\n",
    "            shc=SHC( np.mean(E_set[j*100:(j+1)*100-1]),np.mean(Esq_set[j*100:(j+1)*100-1]),sample_T[i])/(N**2)\n",
    "            shc_set=np.append(shc_set,shc)\n",
    "            \n",
    "        sus_err_set= np.append(sus_err_set,np.std(sus_set,ddof=1))\n",
    "        shc_err_set= np.append(shc_err_set,np.std(shc_set,ddof=1))  \n",
    "                               \n",
    "                               \n",
    "        lattice_i=lattice_set[0][n_set[i]-1]\n",
    "                                   \n",
    "    return [sus_total_set, shc_total_set, sus_err_set,shc_err_set]\n",
    "hide_toggle()"
   ]
  },
  {
   "cell_type": "markdown",
   "metadata": {},
   "source": [
    "# Programme"
   ]
  },
  {
   "cell_type": "markdown",
   "metadata": {},
   "source": [
    "Generating a set of point for a 10x10 lattice, at t=0.1, over 100 steps"
   ]
  },
  {
   "cell_type": "code",
   "execution_count": null,
   "metadata": {},
   "outputs": [],
   "source": [
    "lattice_set_test= lattice_step(lattice_rand(10),0.1,100)[0]"
   ]
  },
  {
   "cell_type": "markdown",
   "metadata": {},
   "source": [
    "Calculating the magnetisation at each mcs"
   ]
  },
  {
   "cell_type": "code",
   "execution_count": null,
   "metadata": {},
   "outputs": [],
   "source": [
    "spin_M_test=spin_M(lattice_set_test)\n"
   ]
  },
  {
   "cell_type": "markdown",
   "metadata": {},
   "source": [
    "$m$ for a given mcs ($N=10$, $T=0.1$)"
   ]
  },
  {
   "cell_type": "code",
   "execution_count": null,
   "metadata": {},
   "outputs": [],
   "source": [
    "plt.rcParams['figure.figsize'] = [14,7]\n",
    "plt.rcParams.update({'font.size': 22})\n",
    "fig,ax=plt.subplots()\n",
    "\n",
    "ax.plot(spin_M_test,label=(\"T=0.1\"))\n",
    "\n",
    "plt.xlabel(\"$MCs$\")\n",
    "plt.ylabel(\"$m$\")\n"
   ]
  },
  {
   "cell_type": "markdown",
   "metadata": {},
   "source": [
    "We then create a plot of the lattice at each mcs and save our results a a jpeg\n",
    "The red squares correspond to $\\uparrow$ spins (+1), whilst the blue squares correspond to $\\downarrow$ spins (-1),  "
   ]
  },
  {
   "cell_type": "code",
   "execution_count": null,
   "metadata": {},
   "outputs": [],
   "source": [
    "plt.rcParams['figure.figsize'] = [8,8]\n",
    "images=[]\n",
    "for i in range(50):\n",
    "\n",
    "    X, Y = np.meshgrid(range(math.isqrt(np.size(lattice_set_test[0]))+1), range(math.isqrt(np.size(lattice_set_test[0]))+1))\n",
    "\n",
    "\n",
    "    plt.pcolormesh(X, Y, lattice_set_test[i], cmap=plt.cm.RdBu)\n",
    "    \n",
    "    plt.savefig(r'C:\\Users\\Lucas\\Documents\\Third Year\\Computing Project\\Images/Sandwich/' + str(i) + '.jpeg',bbox_inches='tight')\n",
    "    \n",
    "    \n",
    "    images.append(imageio.imread(r'C:\\Users\\Lucas\\Documents\\Third Year\\Computing Project\\Images/Sandwich/' + str(i) + '.jpeg'))\n",
    "\n"
   ]
  },
  {
   "cell_type": "code",
   "execution_count": null,
   "metadata": {},
   "outputs": [],
   "source": [
    "imageio.mimsave(r'C:\\Users\\Lucas\\Documents\\Third Year\\Computing Project\\Images/Sandwich/Form_sandwich.gif', images,format='GIF',duration=0.25)"
   ]
  },
  {
   "cell_type": "markdown",
   "metadata": {},
   "source": [
    "Plotting the analytical result for $m$ as a function of $T$ as $N \\rightarrow \\infty$ :\n",
    "\n",
    "$m=[1-\\sinh^{-4}(\\frac{2}{T})]^{\\frac{1}{8}}$"
   ]
  },
  {
   "cell_type": "code",
   "execution_count": null,
   "metadata": {},
   "outputs": [],
   "source": [
    "end=2/np.log(1+np.sqrt(2))\n",
    "temp=np.linspace(0.1,end,10000)\n",
    "temp_after=np.linspace(end,5,1000)\n",
    "zero=np.zeros(1000)\n",
    "\n",
    "plt.plot(temp,(np.abs(1-(np.sinh(2/temp)**-4)))**(1/8),color='red')\n",
    "plt.plot(temp_after,zero,color='red')\n",
    "\n",
    "plt.xlabel(\"$T$ $(J/k_B)$\")\n",
    "plt.ylabel(\"$m$\")\n",
    "#plt.title(\"Analytical result for $m$ as a function of $T$ as $N \\\\rightarrow \\\\infty$\")\n",
    "plt.savefig(r'C:\\Users\\Lucas\\Documents\\Third Year\\Computing Project\\Images\\Analytical M.jpeg',bbox_inches='tight')"
   ]
  },
  {
   "cell_type": "markdown",
   "metadata": {},
   "source": [
    "We now find the observables $\\langle E \\rangle , \\langle E^2 \\rangle , \\langle m \\rangle , \\langle |m| \\rangle$ and $\\langle m^2 \\rangle$ as function of temperature for lattice sizes $N=2,5,10,20$"
   ]
  },
  {
   "cell_type": "code",
   "execution_count": null,
   "metadata": {},
   "outputs": [],
   "source": [
    "#We sample 80 points in the temperature range T=0.5 - 4.5\n",
    "sample_T=np.linspace(4.5,0.5,80)"
   ]
  },
  {
   "cell_type": "code",
   "execution_count": null,
   "metadata": {},
   "outputs": [],
   "source": [
    "n_set=np.ones(80,dtype=np.int8)*10000"
   ]
  },
  {
   "cell_type": "code",
   "execution_count": null,
   "metadata": {},
   "outputs": [],
   "source": [
    "delta_t_set=np.concatenate((np.ones(35,dtype=np.int8),np.ones(20,dtype=np.int8)*5,np.ones(25,dtype=np.int8)))"
   ]
  },
  {
   "cell_type": "code",
   "execution_count": null,
   "metadata": {},
   "outputs": [],
   "source": [
    "observables_2=observables(2,sample_T,n_set,delta_t_set)"
   ]
  },
  {
   "cell_type": "code",
   "execution_count": null,
   "metadata": {},
   "outputs": [],
   "source": [
    "observables_5=observables(5,sample_T,n_set,delta_t_set)"
   ]
  },
  {
   "cell_type": "code",
   "execution_count": null,
   "metadata": {},
   "outputs": [],
   "source": [
    "observables_10=observables(10,sample_T,n_set,delta_t_set)"
   ]
  },
  {
   "cell_type": "code",
   "execution_count": null,
   "metadata": {},
   "outputs": [],
   "source": [
    "observables_20=observables(20,sample_T,n_set,delta_t_set)"
   ]
  },
  {
   "cell_type": "code",
   "execution_count": null,
   "metadata": {},
   "outputs": [],
   "source": [
    "def E_2_theory(T):\n",
    "    E= -(8*np.sinh(8/T))/(3 + np.cosh(8/T))\n",
    "    \n",
    "    return E"
   ]
  },
  {
   "cell_type": "markdown",
   "metadata": {},
   "source": [
    "$\\langle E \\rangle$ vs $T$ $(N=2)$ compared to exact result"
   ]
  },
  {
   "cell_type": "code",
   "execution_count": null,
   "metadata": {},
   "outputs": [],
   "source": [
    "plt.plot(sample_T,E_2_theory(sample_T), label='Theoretical',color='r',linewidth=0.5)\n",
    "plt.plot(sample_T,observables_2[3],label='Simulation',color='b',marker='s',markerfacecolor='none',ls='none', linewidth=0.5, mew=0.5 )\n",
    "plt.xlabel(\"$T$\")\n",
    "plt.ylabel(\"$\\\\langle E \\\\rangle$\")\n",
    "#plt.title(\"$\\\\langle E \\\\rangle$ vs $T$ $(N=2)$\")\n",
    "plt.legend(loc=\"lower left\", bbox_to_anchor=(-0, 0.7))\n",
    "plt.savefig(r'C:\\Users\\Lucas\\Documents\\Third Year\\Computing Project\\Images\\EvsT theory (N=2).jpeg',bbox_inches='tight')"
   ]
  },
  {
   "cell_type": "code",
   "execution_count": null,
   "metadata": {},
   "outputs": [],
   "source": [
    "def avg_absM_2_theory (T):\n",
    "    avg_absM = (2*np.exp(8/T)+4)/(3+np.cosh(8/T))/4\n",
    "    \n",
    "    return avg_absM"
   ]
  },
  {
   "cell_type": "markdown",
   "metadata": {},
   "source": [
    "$\\langle |m| \\rangle$ vs $T$ $(N=2)$, compared to exact results"
   ]
  },
  {
   "cell_type": "code",
   "execution_count": null,
   "metadata": {},
   "outputs": [],
   "source": [
    "plt.plot(sample_T,avg_absM_2_theory(sample_T), label='Theoretical',color='r',linewidth=0.5)\n",
    "plt.plot(sample_T,observables_2[1],label='Simulation',color='b',marker='x',ls='none', linewidth=0.5, mew=0.5 )\n",
    "plt.xlabel(\"$T$\")\n",
    "plt.ylabel(\"$\\\\langle |m|\\\\rangle$\")\n",
    "#plt.title(\"$\\\\langle |m| \\\\rangle$ vs $T$ $(N=2)$\")\n",
    "plt.legend(loc=\"lower left\", bbox_to_anchor=(-0, 0.7))\n",
    "plt.savefig(r'C:\\Users\\Lucas\\Documents\\Third Year\\Computing Project\\Images\\absMvsT comparison (N=2).jpeg',bbox_inches='tight')"
   ]
  },
  {
   "cell_type": "markdown",
   "metadata": {},
   "source": [
    "$|\\langle m \\rangle|$ vs $T$ $(N=5)$, compared with theoretical result as $N \\rightarrow \\infty$"
   ]
  },
  {
   "cell_type": "code",
   "execution_count": null,
   "metadata": {},
   "outputs": [],
   "source": [
    "\n",
    "plt.plot(temp,(np.abs(1-(np.sinh(2/temp)**-4)))**(1/8),color='red',linewidth=0.5)\n",
    "plt.plot(temp_after,zero,color='red',linewidth=0.5)\n",
    "\n",
    "plt.plot(sample_T,np.abs(observables_5[0]),label='$N=5$',color='c',marker='+',ls='none', linewidth=0.5, mew=1)\n",
    "\n",
    "plt.legend(loc=\"upper right\", bbox_to_anchor=(1,1))\n",
    "\n",
    "plt.xlabel(\"$T$\")\n",
    "plt.ylabel(\"$|\\\\langle m \\\\rangle|$\")\n",
    "plt.xlim(0.5,4.5)\n",
    "#plt.title(\"$|\\\\langle m \\\\rangle|$ vs $T$ $(N=5)$\")\n",
    "\n",
    "\n",
    "plt.savefig(r'C:\\Users\\Lucas\\Documents\\Third Year\\Computing Project\\Images\\abs_avgM compare_5.jpeg',bbox_inches='tight')"
   ]
  },
  {
   "cell_type": "markdown",
   "metadata": {},
   "source": [
    "$|\\langle m \\rangle|$ vs $T$ $(N=2)$, compared with theoretical result as $N \\rightarrow \\infty$"
   ]
  },
  {
   "cell_type": "code",
   "execution_count": null,
   "metadata": {},
   "outputs": [],
   "source": [
    "\n",
    "plt.plot(temp,(np.abs(1-(np.sinh(2/temp)**-4)))**(1/8),color='red',linewidth=0.5)\n",
    "plt.plot(temp_after,zero,color='red',linewidth=0.5)\n",
    "\n",
    "plt.plot(sample_T,np.abs(observables_2[0]),label='$N=2$',color='b',marker='+',ls='none', linewidth=0.5, mew=1)\n",
    "\n",
    "plt.legend(loc=\"upper right\", bbox_to_anchor=(1,1))\n",
    "\n",
    "plt.xlabel(\"$T$\")\n",
    "plt.ylabel(\"$|\\\\langle m \\\\rangle|$\")\n",
    "plt.xlim(0.5,4.5)\n",
    "#plt.title(\"$|\\\\langle m \\\\rangle|$ vs $T$ $(N=2)$\")\n",
    "\n",
    "\n",
    "plt.savefig(r'C:\\Users\\Lucas\\Documents\\Third Year\\Computing Project\\Images\\abs_avgM compare_2.jpeg',bbox_inches='tight')"
   ]
  },
  {
   "cell_type": "markdown",
   "metadata": {},
   "source": [
    "Spontaneous Magnetisation at $N=2$, $T=0.8$"
   ]
  },
  {
   "cell_type": "code",
   "execution_count": null,
   "metadata": {},
   "outputs": [],
   "source": [
    "plt.plot(spin_M_i(lattice_rand(2),0.8,10000))\n",
    "plt.xlim([1000,10000])\n",
    "plt.xlabel(\"$MCs$\")\n",
    "plt.ylabel(\"$m$\")\n",
    "#plt.title(\"Spontaneous Magnetisation at $N=2$, $T=0.8$\")\n",
    "\n",
    "\n",
    "plt.savefig(r'C:\\Users\\Lucas\\Documents\\Third Year\\Computing Project\\Images\\spontaneous M.jpeg',bbox_inches='tight')"
   ]
  },
  {
   "cell_type": "code",
   "execution_count": null,
   "metadata": {},
   "outputs": [],
   "source": [
    "sample_T_N40=np.concatenate((np.linspace(3.5,2.6,10),np.linspace(2.5,2,21),np.linspace(1.9,1,9)))"
   ]
  },
  {
   "cell_type": "code",
   "execution_count": null,
   "metadata": {},
   "outputs": [],
   "source": [
    "n_set_N40=np.concatenate((np.ones(10,dtype=np.int8)*5000,np.ones(21,dtype=np.int8)*10000,np.ones(9,dtype=np.int8)*5000))"
   ]
  },
  {
   "cell_type": "code",
   "execution_count": null,
   "metadata": {},
   "outputs": [],
   "source": [
    "delta_t_N40=np.concatenate((np.ones(10,dtype=np.int8),np.ones(21,dtype=np.int8)*5,np.ones(9,dtype=np.int8)))"
   ]
  },
  {
   "cell_type": "code",
   "execution_count": null,
   "metadata": {},
   "outputs": [],
   "source": [
    "observables_40=observables(40,sample_T_N40,n_set_N40,delta_t_N40)"
   ]
  },
  {
   "cell_type": "code",
   "execution_count": null,
   "metadata": {},
   "outputs": [],
   "source": [
    "np.save('observables_40',observables_40)"
   ]
  },
  {
   "cell_type": "markdown",
   "metadata": {},
   "source": [
    "$|\\langle m \\rangle|$ vs $T$ $(N=40)$, compared with theoretical result as $N \\rightarrow \\infty$"
   ]
  },
  {
   "cell_type": "code",
   "execution_count": null,
   "metadata": {},
   "outputs": [],
   "source": [
    "\n",
    "plt.plot(temp,(np.abs(1-(np.sinh(2/temp)**-4)))**(1/8),color='red',linewidth=0.5)\n",
    "plt.plot(temp_after,zero,color='red',linewidth=0.5)\n",
    "\n",
    "plt.plot(sample_T_N40,np.abs(observables_40[0]),label='$N=40$',color='k',marker='+',ls='none', linewidth=0.5, mew=1 )\n",
    "\n",
    "plt.legend(loc=\"upper right\", bbox_to_anchor=(1,1))\n",
    "plt.xlabel(\"$T$\")\n",
    "plt.ylabel(\"$|\\\\langle m \\\\rangle|$\")\n",
    "plt.xlim(0.5,4.5)\n",
    "#plt.title(\"$|\\\\langle m \\\\rangle|$ vs $T$ $(N=20)$\")\n",
    "\n",
    "\n",
    "plt.savefig(r'C:\\Users\\Lucas\\Documents\\Third Year\\Computing Project\\Images\\abs_avgM compare_40.jpeg',bbox_inches='tight')"
   ]
  },
  {
   "cell_type": "markdown",
   "metadata": {},
   "source": [
    "$\\chi'$ per spin vs Temperature for varying $N$"
   ]
  },
  {
   "cell_type": "code",
   "execution_count": null,
   "metadata": {},
   "outputs": [],
   "source": [
    "plt.plot(sample_T,susceptibility_prime(observables_5[1],observables_5[2],sample_T)*25,marker='^',markerfacecolor='None',ls='-', linewidth=0.5, mew=0.5,label='$N=5$',color='c')\n",
    "plt.plot(sample_T,susceptibility_prime(observables_10[1],observables_10[2],sample_T)*100,marker='^',markerfacecolor='None',ls='-', linewidth=0.5, mew=0.5,label='$N=10$',color='g')\n",
    "plt.plot(sample_T,susceptibility_prime(observables_20[1],observables_20[2],sample_T)*400,marker='^',markerfacecolor='None',ls='-', linewidth=0.5, mew=0.5,label='$N=20$',color='m')\n",
    "plt.plot(sample_T_N40,susceptibility_prime(observables_40[1],observables_40[2],sample_T_N40)*1600,marker='^',markerfacecolor='None',ls='-', linewidth=0.5, mew=0.5,label='$N=40$',color='k')\n",
    "plt.xlabel(\"$T$\")\n",
    "plt.ylabel(\"$\\\\chi \\\\prime$ per spin\")\n",
    "#plt.title(\"$\\\\langle \\\\chi \\\\rangle$ per spin vs Temperature\")\n",
    "plt.legend(loc=\"lower left\", bbox_to_anchor=(-0, 0.5))\n",
    "\n",
    "plt.savefig(r'C:\\Users\\Lucas\\Documents\\Third Year\\Computing Project\\Images\\susceptibility prime vs T.jpeg',bbox_inches='tight')"
   ]
  },
  {
   "cell_type": "markdown",
   "metadata": {},
   "source": [
    "$\\langle |m| \\rangle$ vs $T$ for varying $N$"
   ]
  },
  {
   "cell_type": "code",
   "execution_count": null,
   "metadata": {},
   "outputs": [],
   "source": [
    "plt.plot(sample_T,observables_2[1],marker='x',ls='-', linewidth=0.5, mew=0.5,label='N=2',color='blue')\n",
    "plt.plot(sample_T,observables_5[1],marker='x',ls='-', linewidth=0.5, mew=0.5,label='N=5',color='c')\n",
    "plt.plot(sample_T,observables_10[1],marker='x',ls='-', linewidth=0.5, mew=0.5,label='N=10',color='g')\n",
    "plt.plot(sample_T,observables_20[1],marker='x',ls='-', linewidth=0.5, mew=0.5,label='N=20',color='m')\n",
    "plt.plot(sample_T_N40,observables_40[1],marker='x',ls='-', linewidth=0.5, mew=0.5,label='N=40',color='k')\n",
    "plt.legend(loc=\"lower left\", bbox_to_anchor=(-0, 0.4))\n",
    "\n",
    "plt.xlabel(\"$T$\")\n",
    "plt.ylabel(\"$\\\\langle |m| \\\\rangle$\")\n",
    "#plt.title(\"$\\\\langle |m| \\\\rangle$ vs $T$\")\n",
    "plt.savefig(r'C:\\Users\\Lucas\\Documents\\Third Year\\Computing Project\\Images\\avgabsMvsT.jpeg',bbox_inches='tight')"
   ]
  },
  {
   "cell_type": "markdown",
   "metadata": {},
   "source": [
    "$\\chi$ per spin vs Temperature for varying $N$"
   ]
  },
  {
   "cell_type": "code",
   "execution_count": null,
   "metadata": {},
   "outputs": [],
   "source": [
    "plt.plot(sample_T,susceptibility(observables_2[0],observables_2[2],sample_T)*4,marker='p',markerfacecolor='None',ls='-', linewidth=0.5, mew=0.5,label='$N=2$',color='b')\n",
    "plt.plot(sample_T,susceptibility(observables_5[0],observables_5[2],sample_T)*25,marker='p',markerfacecolor='None',ls='-', linewidth=0.5, mew=0.5,label='$N=5$',color='c')\n",
    "plt.plot(sample_T,susceptibility(observables_10[0],observables_10[2],sample_T)*100,marker='p',markerfacecolor='None',ls='-', linewidth=0.5, mew=0.5,label='$N=10$',color='g')\n",
    "plt.plot(sample_T,susceptibility(observables_20[0],observables_20[2],sample_T)*400,marker='p',markerfacecolor='None',ls='-', linewidth=0.5, mew=0.5,label='$N=20$',color='m')\n",
    "plt.plot(sample_T_N40,susceptibility(observables_40[0],observables_40[2],sample_T_N40)*1600,marker='p',markerfacecolor='None',ls='-', linewidth=0.5, mew=0.5,label='$N=40$',color='k')\n",
    "\n",
    "plt.xlabel(\"$T$\")\n",
    "plt.ylabel(\"$\\\\chi $ per spin\")\n",
    "\n",
    "#plt.title(\"$\\\\langle \\\\chi \\\\rangle$ per spin vs Temperature\")\n",
    "plt.legend(loc=\"lower left\", bbox_to_anchor=(-0, 0.5))\n",
    "plt.savefig(r'C:\\Users\\Lucas\\Documents\\Third Year\\Computing Project\\Images\\susceptibility vs T.jpeg',bbox_inches='tight')"
   ]
  },
  {
   "cell_type": "markdown",
   "metadata": {},
   "source": [
    "$C $ per spin vs $T$ for varying $N$"
   ]
  },
  {
   "cell_type": "code",
   "execution_count": null,
   "metadata": {},
   "outputs": [],
   "source": [
    "plt.plot(sample_T,SHC(observables_5[3],observables_5[4],sample_T)/25,marker='o',markerfacecolor='none',ls='-', linewidth=0.5, mew=0.5,label='$N=5$',color='c')\n",
    "plt.plot(sample_T,SHC(observables_10[3],observables_10[4],sample_T)/100,marker='o',markerfacecolor='none',ls='-', linewidth=0.5, mew=0.5,label='$N=10$',color='g')\n",
    "plt.plot(sample_T,SHC(observables_20[3],observables_20[4],sample_T)/400,marker='o',markerfacecolor='none',ls='-', linewidth=0.5, mew=0.5,label='$N=20$',color='m')\n",
    "plt.plot(sample_T_N40,SHC(observables_40[3],observables_40[4],sample_T_N40)/1600,marker='o',markerfacecolor='none',ls='-', linewidth=0.5, mew=0.5,label='$N=40$',color='k')\n",
    "\n",
    "plt.xlabel(\"$T$\")\n",
    "plt.ylabel(\"$C$ per spin\")\n",
    "#plt.title(\"$\\\\langle C \\\\rangle$ per spin vs $T$\")\n",
    "plt.legend(loc=\"lower left\", bbox_to_anchor=(-0, 0.5))\n",
    "\n",
    "plt.savefig(r'C:\\Users\\Lucas\\Documents\\Third Year\\Computing Project\\Images\\SHC vs T.jpeg',bbox_inches='tight')"
   ]
  },
  {
   "cell_type": "markdown",
   "metadata": {},
   "source": [
    "$\\langle E \\rangle$ per spin vs $T$ for varying $N$"
   ]
  },
  {
   "cell_type": "code",
   "execution_count": null,
   "metadata": {},
   "outputs": [],
   "source": [
    "plt.plot(sample_T,observables_2[3]/4,label='N=2',color='b',marker='s',markerfacecolor='none',ls='-', linewidth=0.5, mew=0.5)\n",
    "plt.plot(sample_T,observables_5[3]/25,label='N=5',color='c',marker='s',markerfacecolor='none',ls='-', linewidth=0.5, mew=0.5)\n",
    "plt.plot(sample_T,observables_10[3]/100,label='N=10',color='g',marker='s',markerfacecolor='none',ls='-', linewidth=0.5, mew=0.5)\n",
    "plt.plot(sample_T_N40,observables_40[3]/1600,label='N=40',color='k',marker='s',markerfacecolor='none',ls='-', linewidth=0.5, mew=0.5)\n",
    "\n",
    "plt.plot\n",
    "\n",
    "plt.legend(loc=\"lower left\", bbox_to_anchor=(-0, 0.6))\n",
    "\n",
    "plt.xlabel(\"$T$\")\n",
    "plt.ylabel(\"$\\\\langle E \\\\rangle$ per spin\")\n",
    "#plt.title(\"$\\\\langle E \\\\rangle$ per spin vs $T$\")\n",
    "plt.savefig(r'C:\\Users\\Lucas\\Documents\\Third Year\\Computing Project\\Images\\EvsT per spin.jpeg',bbox_inches='tight')"
   ]
  },
  {
   "cell_type": "markdown",
   "metadata": {},
   "source": [
    "We then find $T_c$ by plotting a parabola about the peak. We obtain the errors using a blocking method"
   ]
  },
  {
   "cell_type": "code",
   "execution_count": null,
   "metadata": {},
   "outputs": [],
   "source": [
    "def parabola(x,a,b,c):\n",
    "    return a*x**2 + b*x +c"
   ]
  },
  {
   "cell_type": "markdown",
   "metadata": {},
   "source": [
    "$N=5$"
   ]
  },
  {
   "cell_type": "code",
   "execution_count": null,
   "metadata": {},
   "outputs": [],
   "source": [
    "SHC_N5=SHC(observables_5[3],observables_5[4],sample_T)/25"
   ]
  },
  {
   "cell_type": "code",
   "execution_count": null,
   "metadata": {},
   "outputs": [],
   "source": [
    "sus_N5=susceptibility_prime(observables_5[1],observables_5[2],sample_T)*25"
   ]
  },
  {
   "cell_type": "code",
   "execution_count": null,
   "metadata": {},
   "outputs": [],
   "source": [
    "np.argmax(sus_N5)"
   ]
  },
  {
   "cell_type": "code",
   "execution_count": null,
   "metadata": {},
   "outputs": [],
   "source": [
    "np.argmax(SHC_N5)"
   ]
  },
  {
   "cell_type": "code",
   "execution_count": null,
   "metadata": {},
   "outputs": [],
   "source": [
    "b_err_5=blocking_error (5,sample_T[34:44],np.ones(10,dtype=np.int8)*10000,np.ones(10,dtype=np.int8)*5)"
   ]
  },
  {
   "cell_type": "code",
   "execution_count": null,
   "metadata": {},
   "outputs": [],
   "source": [
    "plt.errorbar(sample_T[34:44],b_err_5[0],yerr=b_err_5[2],ls='None',lw=0.5, mew=0.5, marker='^', color='c',capsize=6)\n",
    "plt.xlabel(\"$T$\")\n",
    "plt.ylabel(\"$\\\\chi \\\\prime$ per spin\")"
   ]
  },
  {
   "cell_type": "code",
   "execution_count": null,
   "metadata": {},
   "outputs": [],
   "source": [
    "p_sus5, pcov_sus5 = curve_fit(parabola, sample_T[34:44],b_err_5[0],sigma=b_err_5[2] )"
   ]
  },
  {
   "cell_type": "code",
   "execution_count": null,
   "metadata": {},
   "outputs": [],
   "source": [
    "print(p_sus5)\n",
    "perr_sus5 = np.sqrt(np.diag(pcov_sus5))\n",
    "print(perr_sus5)"
   ]
  },
  {
   "cell_type": "code",
   "execution_count": null,
   "metadata": {},
   "outputs": [],
   "source": [
    "plt.plot(sample_T,parabola(sample_T,p_sus5[0],p_sus5[1],p_sus5[2]),color='orange')\n",
    "plt.plot(sample_T,sus_N5,marker='^',markerfacecolor='None',ls='-', linewidth=0.5, mew=0.5,label='$N=5$',color='c')\n",
    "plt.ylim(0,1)\n",
    "plt.errorbar(sample_T[34:44],b_err_5[0],yerr=b_err_5[2],ls='None',lw=0.5, mew=0.5, marker='^', color='c',capsize=6)\n"
   ]
  },
  {
   "cell_type": "code",
   "execution_count": null,
   "metadata": {},
   "outputs": [],
   "source": [
    "Tc_sus5=-(p_sus5[1]/(2*p_sus5[0]))\n",
    "print(Tc_sus5)"
   ]
  },
  {
   "cell_type": "code",
   "execution_count": null,
   "metadata": {},
   "outputs": [],
   "source": [
    "Tc_sus5_err=(np.sqrt((perr_sus5[0]/p_sus5[0])**2 + (perr_sus5[1]/p_sus5[1])**2))*Tc_sus5\n",
    "print(Tc_sus5_err)"
   ]
  },
  {
   "cell_type": "code",
   "execution_count": null,
   "metadata": {},
   "outputs": [],
   "source": [
    "plt.errorbar(sample_T[34:44],b_err_5[1],yerr=b_err_5[3],ls='None',lw=0.5, mew=0.5, marker='o', color='c',capsize=6)\n",
    "plt.xlabel(\"$T$\")\n",
    "plt.ylabel(\"$C$ per spin\")\n",
    "plt.ylim(0,2)\n",
    "plt.xlim(0.5,4.5)"
   ]
  },
  {
   "cell_type": "code",
   "execution_count": null,
   "metadata": {},
   "outputs": [],
   "source": [
    "p_shc5, pcov_shc5 = curve_fit(parabola, sample_T[34:44],b_err_5[1],sigma=b_err_5[3] )"
   ]
  },
  {
   "cell_type": "code",
   "execution_count": null,
   "metadata": {},
   "outputs": [],
   "source": [
    "print(p_shc5)\n",
    "perr_shc5 = np.sqrt(np.diag(pcov_shc5))\n",
    "print(perr_shc5)"
   ]
  },
  {
   "cell_type": "code",
   "execution_count": null,
   "metadata": {},
   "outputs": [],
   "source": [
    "plt.plot(sample_T,parabola(sample_T,p_shc5[0],p_shc5[1],p_shc5[2]),color='orange')\n",
    "plt.plot(sample_T,SHC_N5,marker='o',markerfacecolor='none',ls='-', linewidth=0.5, mew=0.5,label='$N=5$',color='c')\n",
    "plt.ylim(0,1)\n",
    "plt.errorbar(sample_T[34:44],b_err_5[1],yerr=b_err_5[3],ls='None',lw=0.5, mew=0.5, marker='o', color='c',capsize=6)"
   ]
  },
  {
   "cell_type": "code",
   "execution_count": null,
   "metadata": {},
   "outputs": [],
   "source": [
    "Tc_shc5=-(p_shc5[1]/(2*p_shc5[0]))\n",
    "print(Tc_shc5)"
   ]
  },
  {
   "cell_type": "code",
   "execution_count": null,
   "metadata": {},
   "outputs": [],
   "source": [
    "Tc_shc5_err=(np.sqrt((perr_shc5[0]/p_shc5[0])**2 + (perr_shc5[1]/p_shc5[1])**2))*Tc_shc5\n",
    "print(Tc_shc5_err)"
   ]
  },
  {
   "cell_type": "markdown",
   "metadata": {},
   "source": [
    "$N=10$"
   ]
  },
  {
   "cell_type": "code",
   "execution_count": null,
   "metadata": {},
   "outputs": [],
   "source": [
    "SHC_N10=SHC(observables_10[3],observables_10[4],sample_T)/100"
   ]
  },
  {
   "cell_type": "code",
   "execution_count": null,
   "metadata": {},
   "outputs": [],
   "source": [
    "sus_N10=susceptibility_prime(observables_10[1],observables_10[2],sample_T)*100"
   ]
  },
  {
   "cell_type": "code",
   "execution_count": null,
   "metadata": {},
   "outputs": [],
   "source": [
    "np.argmax(sus_N10)"
   ]
  },
  {
   "cell_type": "code",
   "execution_count": null,
   "metadata": {},
   "outputs": [],
   "source": [
    "np.argmax(SHC_N10)"
   ]
  },
  {
   "cell_type": "code",
   "execution_count": null,
   "metadata": {},
   "outputs": [],
   "source": [
    "b_err_10=blocking_error (10,sample_T[39:45],np.ones(6,dtype=np.int8)*10000,np.ones(6,dtype=np.int8)*5)"
   ]
  },
  {
   "cell_type": "code",
   "execution_count": null,
   "metadata": {},
   "outputs": [],
   "source": [
    "plt.errorbar(sample_T[39:45],b_err_10[0],yerr=b_err_10[2],ls='None',lw=0.5, mew=0.5, marker='^', color='g',capsize=6)\n",
    "plt.xlabel(\"$T$\")\n",
    "plt.ylabel(\"$\\\\chi \\\\prime$ per spin\")"
   ]
  },
  {
   "cell_type": "code",
   "execution_count": null,
   "metadata": {},
   "outputs": [],
   "source": [
    "p_sus10, pcov_sus10 = curve_fit(parabola, sample_T[39:45],b_err_10[0],sigma=b_err_10[2] )"
   ]
  },
  {
   "cell_type": "code",
   "execution_count": null,
   "metadata": {},
   "outputs": [],
   "source": [
    "print(p_sus10)\n",
    "perr_sus10 = np.sqrt(np.diag(pcov_sus10))\n",
    "print(perr_sus10)"
   ]
  },
  {
   "cell_type": "code",
   "execution_count": null,
   "metadata": {},
   "outputs": [],
   "source": [
    "plt.plot(sample_T,parabola(sample_T,p_sus10[0],p_sus10[1],p_sus10[2]),color='orange')\n",
    "plt.plot(sample_T,sus_N10,marker='^',markerfacecolor='None',ls='-', linewidth=0.5, mew=0.5,color='g')\n",
    "plt.ylim(0,3.5)\n",
    "plt.xlim(1,4)\n",
    "plt.errorbar(sample_T[39:45],b_err_10[0],yerr=b_err_10[2],ls='None',lw=0.5, mew=0.5, marker='^', color='g',capsize=6,label='$N=5$')\n",
    "plt.xlabel(\"$T$\")\n",
    "plt.ylabel(\"$\\\\chi \\\\prime$ per spin\")\n",
    "plt.legend(loc=\"lower left\", bbox_to_anchor=(-0, 0.5))\n",
    "plt.savefig(r'C:\\Users\\Lucas\\Documents\\Third Year\\Computing Project\\Images\\Sus_parabola_5.jpeg',bbox_inches='tight')"
   ]
  },
  {
   "cell_type": "code",
   "execution_count": null,
   "metadata": {},
   "outputs": [],
   "source": [
    "Tc_sus10=-(p_sus10[1]/(2*p_sus10[0]))\n",
    "print(Tc_sus10)"
   ]
  },
  {
   "cell_type": "code",
   "execution_count": null,
   "metadata": {},
   "outputs": [],
   "source": [
    "Tc_sus10_err=(np.sqrt((perr_sus10[0]/p_sus10[0])**2 + (perr_sus10[1]/p_sus10[1])**2))*Tc_sus10\n",
    "print(Tc_sus10_err)"
   ]
  },
  {
   "cell_type": "code",
   "execution_count": null,
   "metadata": {},
   "outputs": [],
   "source": [
    "plt.errorbar(sample_T[39:45],b_err_10[1],yerr=b_err_10[3],ls='None',lw=0.5, mew=0.5, marker='o', color='g',capsize=6)\n",
    "plt.xlabel(\"$T$\")\n",
    "plt.ylabel(\"$C$ per spin\")\n",
    "plt.ylim(0,2)\n",
    "plt.xlim(0.5,4.5)"
   ]
  },
  {
   "cell_type": "code",
   "execution_count": null,
   "metadata": {},
   "outputs": [],
   "source": [
    "p_shc10, pcov_shc10 = curve_fit(parabola, sample_T[39:45],b_err_10[1],sigma=b_err_10[3] )"
   ]
  },
  {
   "cell_type": "code",
   "execution_count": null,
   "metadata": {},
   "outputs": [],
   "source": [
    "print(p_shc10)\n",
    "perr_shc10 = np.sqrt(np.diag(pcov_shc10))\n",
    "print(perr_shc10)"
   ]
  },
  {
   "cell_type": "code",
   "execution_count": null,
   "metadata": {},
   "outputs": [],
   "source": [
    "plt.plot(sample_T,parabola(sample_T,p_shc10[0],p_shc10[1],p_shc10[2]),color='orange')\n",
    "plt.plot(sample_T,SHC_N10,marker='o',markerfacecolor='none',ls='-', linewidth=0.5, mew=0.5,label='$N=5$',color='g')\n",
    "plt.ylim(0,2)\n",
    "plt.errorbar(sample_T[39:45],b_err_10[1],yerr=b_err_10[3],ls='None',lw=0.5, mew=0.5, marker='o', color='g',capsize=6)\n"
   ]
  },
  {
   "cell_type": "code",
   "execution_count": null,
   "metadata": {},
   "outputs": [],
   "source": [
    "Tc_shc10=-(p_shc10[1]/(2*p_shc10[0]))\n",
    "print(Tc_shc10)"
   ]
  },
  {
   "cell_type": "code",
   "execution_count": null,
   "metadata": {},
   "outputs": [],
   "source": [
    "Tc_shc10_err=(np.sqrt((perr_shc10[0]/p_shc10[0])**2 + (perr_shc10[1]/p_shc10[1])**2))*Tc_shc10\n",
    "print(Tc_shc10_err)"
   ]
  },
  {
   "cell_type": "markdown",
   "metadata": {},
   "source": [
    "$N=20$"
   ]
  },
  {
   "cell_type": "code",
   "execution_count": null,
   "metadata": {},
   "outputs": [],
   "source": [
    "SHC_N20=SHC(observables_20[3],observables_20[4],sample_T)/400"
   ]
  },
  {
   "cell_type": "code",
   "execution_count": null,
   "metadata": {},
   "outputs": [],
   "source": [
    "sus_N20=susceptibility_prime(observables_20[1],observables_20[2],sample_T)*400"
   ]
  },
  {
   "cell_type": "code",
   "execution_count": null,
   "metadata": {},
   "outputs": [],
   "source": [
    "np.argmax(sus_N20)"
   ]
  },
  {
   "cell_type": "code",
   "execution_count": null,
   "metadata": {},
   "outputs": [],
   "source": [
    "np.argmax(SHC_N20)"
   ]
  },
  {
   "cell_type": "code",
   "execution_count": null,
   "metadata": {},
   "outputs": [],
   "source": [
    "b_err_20=blocking_error (20,sample_T[40:46],np.ones(6,dtype=np.int8)*10000,np.ones(6,dtype=np.int8)*5)"
   ]
  },
  {
   "cell_type": "code",
   "execution_count": null,
   "metadata": {},
   "outputs": [],
   "source": [
    "plt.errorbar(sample_T[40:46],b_err_20[0],yerr=b_err_20[2],ls='None',lw=0.5, mew=0.5, marker='^', color='m',capsize=6)\n",
    "plt.xlabel(\"$T$\")\n",
    "plt.ylabel(\"$\\\\chi \\\\prime$ per spin\")\n",
    "plt.ylim(0,12)\n",
    "plt.xlim(0.5,4.5)"
   ]
  },
  {
   "cell_type": "code",
   "execution_count": null,
   "metadata": {},
   "outputs": [],
   "source": [
    "p_sus20, pcov_sus20 = curve_fit(parabola, sample_T[40:46],b_err_20[0],sigma=b_err_20[2] )"
   ]
  },
  {
   "cell_type": "code",
   "execution_count": null,
   "metadata": {},
   "outputs": [],
   "source": [
    "print(p_sus20)\n",
    "perr_sus20 = np.sqrt(np.diag(pcov_sus20))\n",
    "print(perr_sus20)"
   ]
  },
  {
   "cell_type": "code",
   "execution_count": null,
   "metadata": {},
   "outputs": [],
   "source": [
    "plt.plot(sample_T,parabola(sample_T,p_sus20[0],p_sus20[1],p_sus20[2]),color='orange')\n",
    "plt.plot(sample_T,sus_N20,marker='^',markerfacecolor='None',ls='-', linewidth=0.5, mew=0.5,label='$N=5$',color='m')\n",
    "plt.ylim(0,12)\n",
    "plt.errorbar(sample_T[40:46],b_err_20[0],yerr=b_err_20[2],ls='None',lw=0.5, mew=0.5, marker='^', color='m',capsize=6)\n"
   ]
  },
  {
   "cell_type": "code",
   "execution_count": null,
   "metadata": {},
   "outputs": [],
   "source": [
    "Tc_sus20=-(p_sus20[1]/(2*p_sus20[0]))\n",
    "print(Tc_sus20)"
   ]
  },
  {
   "cell_type": "code",
   "execution_count": null,
   "metadata": {},
   "outputs": [],
   "source": [
    "Tc_sus20_err=(np.sqrt((perr_sus20[0]/p_sus20[0])**2 + (perr_sus20[1]/p_sus20[1])**2))*Tc_sus20\n",
    "print(Tc_sus20_err)"
   ]
  },
  {
   "cell_type": "code",
   "execution_count": null,
   "metadata": {},
   "outputs": [],
   "source": [
    "plt.errorbar(sample_T[40:46],b_err_20[1],yerr=b_err_20[3],ls='None',lw=0.5, mew=0.5, marker='o', color='m',capsize=6)\n",
    "plt.xlabel(\"$T$\")\n",
    "plt.ylabel(\"$C$ per spin\")\n",
    "plt.ylim(0,2.5)\n",
    "plt.xlim(0.5,4.5)"
   ]
  },
  {
   "cell_type": "code",
   "execution_count": null,
   "metadata": {},
   "outputs": [],
   "source": [
    "p_shc20, pcov_shc20 = curve_fit(parabola, sample_T[40:46],b_err_20[1],sigma=b_err_20[3] )"
   ]
  },
  {
   "cell_type": "code",
   "execution_count": null,
   "metadata": {},
   "outputs": [],
   "source": [
    "print(p_shc20)\n",
    "perr_shc20 = np.sqrt(np.diag(pcov_shc20))\n",
    "print(perr_shc20)"
   ]
  },
  {
   "cell_type": "code",
   "execution_count": null,
   "metadata": {},
   "outputs": [],
   "source": [
    "plt.plot(sample_T,parabola(sample_T,p_shc20[0],p_shc20[1],p_shc20[2]),color='orange')\n",
    "plt.plot(sample_T,SHC_N20,marker='o',markerfacecolor='none',ls='-', linewidth=0.5, mew=0.5,label='$N=5$',color='m')\n",
    "plt.ylim(0,2)\n",
    "plt.errorbar(sample_T[40:46],b_err_20[1],yerr=b_err_20[3],ls='None',lw=0.5, mew=0.5, marker='o', color='m',capsize=6)\n"
   ]
  },
  {
   "cell_type": "code",
   "execution_count": null,
   "metadata": {},
   "outputs": [],
   "source": [
    "Tc_shc20=-(p_shc20[1]/(2*p_shc20[0]))\n",
    "print(Tc_shc20)"
   ]
  },
  {
   "cell_type": "code",
   "execution_count": null,
   "metadata": {},
   "outputs": [],
   "source": [
    "Tc_shc20_err=(np.sqrt((perr_shc20[0]/p_shc20[0])**2 + (perr_shc20[1]/p_shc20[1])**2))*Tc_shc20\n",
    "print(Tc_shc20_err)"
   ]
  },
  {
   "cell_type": "markdown",
   "metadata": {},
   "source": [
    "$N=40$"
   ]
  },
  {
   "cell_type": "code",
   "execution_count": null,
   "metadata": {},
   "outputs": [],
   "source": [
    "SHC_N40=SHC(observables_40[3],observables_40[4],sample_T_N40)/1600"
   ]
  },
  {
   "cell_type": "code",
   "execution_count": null,
   "metadata": {},
   "outputs": [],
   "source": [
    "sus_N40=susceptibility_prime(observables_40[1],observables_40[2],sample_T_N40)*1600"
   ]
  },
  {
   "cell_type": "code",
   "execution_count": null,
   "metadata": {},
   "outputs": [],
   "source": [
    "np.argmax(sus_N40)"
   ]
  },
  {
   "cell_type": "code",
   "execution_count": null,
   "metadata": {},
   "outputs": [],
   "source": [
    "np.argmax(SHC_N40)"
   ]
  },
  {
   "cell_type": "code",
   "execution_count": null,
   "metadata": {},
   "outputs": [],
   "source": [
    "b_err_40=blocking_error (40,sample_T_N40[15:22],np.ones(7,dtype=np.int8)*10000,np.ones(7,dtype=np.int8)*1)"
   ]
  },
  {
   "cell_type": "code",
   "execution_count": null,
   "metadata": {},
   "outputs": [],
   "source": [
    "plt.errorbar(sample_T_N40[15:22],b_err_40[0],yerr=b_err_40[2],ls='None',lw=0.5, mew=0.5, marker='^', color='k',capsize=6)\n",
    "plt.xlabel(\"$T$\")\n",
    "plt.ylabel(\"$\\\\chi \\\\prime$ per spin\")\n",
    "plt.ylim(0,40)\n",
    "plt.xlim(0.5,4.5)"
   ]
  },
  {
   "cell_type": "code",
   "execution_count": null,
   "metadata": {},
   "outputs": [],
   "source": [
    "p_sus40, pcov_sus40 = curve_fit(parabola, sample_T_N40[15:22],b_err_40[0],sigma=b_err_40[2] )"
   ]
  },
  {
   "cell_type": "code",
   "execution_count": null,
   "metadata": {},
   "outputs": [],
   "source": [
    "print(p_sus40)\n",
    "perr_sus40 = np.sqrt(np.diag(pcov_sus40))\n",
    "print(perr_sus40)"
   ]
  },
  {
   "cell_type": "code",
   "execution_count": null,
   "metadata": {},
   "outputs": [],
   "source": [
    "plt.plot(sample_T_N40,parabola(sample_T_N40,p_sus40[0],p_sus40[1],p_sus40[2]),color='orange')\n",
    "plt.plot(sample_T_N40,sus_N40,marker='^',markerfacecolor='None',ls='-', linewidth=0.5, mew=0.5,label='$N=5$',color='k')\n",
    "plt.ylim(0,40)\n",
    "plt.errorbar(sample_T_N40[15:22],b_err_40[0],yerr=b_err_40[2],ls='None',lw=0.5, mew=0.5, marker='^', color='k',capsize=6)\n"
   ]
  },
  {
   "cell_type": "code",
   "execution_count": null,
   "metadata": {},
   "outputs": [],
   "source": [
    "Tc_sus40=-(p_sus40[1]/(2*p_sus40[0]))\n",
    "print(Tc_sus40)"
   ]
  },
  {
   "cell_type": "code",
   "execution_count": null,
   "metadata": {},
   "outputs": [],
   "source": [
    "Tc_sus40_err=(np.sqrt((perr_sus40[0]/p_sus40[0])**2 + (perr_sus40[1]/p_sus40[1])**2))*Tc_sus40\n",
    "print(Tc_sus40_err)"
   ]
  },
  {
   "cell_type": "code",
   "execution_count": null,
   "metadata": {},
   "outputs": [],
   "source": [
    "plt.errorbar(sample_T_N40[15:22],b_err_40[1],yerr=b_err_40[3],ls='None',lw=0.5, mew=0.5, marker='o', color='k',capsize=6)\n",
    "plt.xlabel(\"$T$\")\n",
    "plt.ylabel(\"$C$ per spin\")\n",
    "plt.ylim(0,2.5)\n",
    "plt.xlim(0.5,4.5)"
   ]
  },
  {
   "cell_type": "code",
   "execution_count": null,
   "metadata": {},
   "outputs": [],
   "source": [
    "p_shc40, pcov_shc40 = curve_fit(parabola, sample_T_N40[15:22],b_err_40[1],sigma=b_err_40[3] )"
   ]
  },
  {
   "cell_type": "code",
   "execution_count": null,
   "metadata": {},
   "outputs": [],
   "source": [
    "print(p_shc40)\n",
    "perr_shc40 = np.sqrt(np.diag(pcov_shc40))\n",
    "print(perr_shc40)"
   ]
  },
  {
   "cell_type": "code",
   "execution_count": null,
   "metadata": {},
   "outputs": [],
   "source": [
    "plt.plot(sample_T_N40,parabola(sample_T_N40,p_shc40[0],p_shc40[1],p_shc40[2]),color='orange')\n",
    "plt.plot(sample_T_N40,SHC_N40,marker='o',markerfacecolor='none',ls='-', linewidth=0.5, mew=0.5,color='k')\n",
    "plt.ylim(0,2.5)\n",
    "plt.xlim(1.5,3)\n",
    "plt.xlabel(\"$T$\")\n",
    "plt.ylabel(\"$C$ per spin\")\n",
    "\n",
    "plt.errorbar(sample_T_N40[15:22],b_err_40[1],yerr=b_err_40[3],ls='None',lw=0.5, mew=0.5, marker='o', color='k',capsize=6,label='$N=40$')\n",
    "plt.legend(loc=\"lower left\", bbox_to_anchor=(-0, 0.5))\n",
    "\n",
    "plt.savefig(r'C:\\Users\\Lucas\\Documents\\Third Year\\Computing Project\\Images\\SHC_parabola_40.jpeg',bbox_inches='tight')"
   ]
  },
  {
   "cell_type": "code",
   "execution_count": null,
   "metadata": {},
   "outputs": [],
   "source": [
    "Tc_shc40=-(p_shc40[1]/(2*p_shc40[0]))\n",
    "print(Tc_shc40)"
   ]
  },
  {
   "cell_type": "code",
   "execution_count": null,
   "metadata": {},
   "outputs": [],
   "source": [
    "Tc_shc40_err=(np.sqrt((perr_shc40[0]/p_shc40[0])**2 + (perr_shc40[1]/p_shc40[1])**2))*Tc_shc40\n",
    "print(Tc_shc40_err)"
   ]
  },
  {
   "cell_type": "markdown",
   "metadata": {},
   "source": [
    "We then plot $T_c(N)$ against $N^{-1}$"
   ]
  },
  {
   "cell_type": "code",
   "execution_count": null,
   "metadata": {},
   "outputs": [],
   "source": [
    "Tc_sus_set=np.array([Tc_sus5,Tc_sus10,Tc_sus20,Tc_sus40])"
   ]
  },
  {
   "cell_type": "code",
   "execution_count": null,
   "metadata": {},
   "outputs": [],
   "source": [
    "Tc_sus_err=np.array([Tc_sus5_err,Tc_sus10_err,Tc_sus20_err,Tc_sus40_err])"
   ]
  },
  {
   "cell_type": "code",
   "execution_count": null,
   "metadata": {},
   "outputs": [],
   "source": [
    "Tc_shc_set=np.array([Tc_shc5,Tc_shc10,Tc_shc20,Tc_shc40])"
   ]
  },
  {
   "cell_type": "code",
   "execution_count": null,
   "metadata": {},
   "outputs": [],
   "source": [
    "Tc_shc_err=np.array([Tc_shc5_err,Tc_shc10_err,Tc_shc20_err,Tc_shc40_err])"
   ]
  },
  {
   "cell_type": "code",
   "execution_count": null,
   "metadata": {},
   "outputs": [],
   "source": [
    "Tc_set=(Tc_sus_set + Tc_shc_set)/2"
   ]
  },
  {
   "cell_type": "code",
   "execution_count": null,
   "metadata": {},
   "outputs": [],
   "source": [
    "Tc_err=np.sqrt(Tc_sus_err**2 + Tc_shc_err**2)/2"
   ]
  },
  {
   "cell_type": "code",
   "execution_count": null,
   "metadata": {},
   "outputs": [],
   "source": [
    "plt.errorbar([0.2,0.1,0.05,0.025],Tc_sus_set,ls='None',lw=0.5, mew=0.5, marker='d', color='red',capsize=6)\n",
    "plt.errorbar([0.2,0.1,0.05,0.025],Tc_shc_set,ls='None',lw=0.5, mew=0.5, marker='d', color='blue',capsize=6,)\n",
    "plt.errorbar([0.2,0.1,0.05,0.025],Tc_set,yerr=Tc_err,ls='None',lw=0.5, mew=0.5, marker='d', color='k',capsize=6,)\n",
    "plt.plot([0,0.21],[(p_Tc[1]),p_Tc[0]*0.21+p_Tc[1]],color='k', lw=0.5,ls='--')\n",
    "plt.xlabel(\"$N^{-1/\\\\nu}$\")\n",
    "plt.ylabel(\"$T_c(N)$\")\n",
    "plt.xlim(0,0.21)\n",
    "\n",
    "plt.savefig(r'C:\\Users\\Lucas\\Documents\\Third Year\\Computing Project\\Images\\Tc vs N.jpeg',bbox_inches='tight')"
   ]
  },
  {
   "cell_type": "code",
   "execution_count": null,
   "metadata": {},
   "outputs": [],
   "source": [
    "def linear(x,a,b):\n",
    "    return a*x +b"
   ]
  },
  {
   "cell_type": "code",
   "execution_count": null,
   "metadata": {},
   "outputs": [],
   "source": [
    "p_Tc, pcov_Tc = curve_fit(linear, [0.2,0.1,0.05,0.025],Tc_set,sigma=Tc_err )"
   ]
  },
  {
   "cell_type": "code",
   "execution_count": null,
   "metadata": {},
   "outputs": [],
   "source": [
    "pcov_Tc"
   ]
  },
  {
   "cell_type": "code",
   "execution_count": null,
   "metadata": {},
   "outputs": [],
   "source": [
    "print(p_Tc)"
   ]
  },
  {
   "cell_type": "code",
   "execution_count": null,
   "metadata": {},
   "outputs": [],
   "source": [
    "perr_Tc = np.sqrt(np.diag(pcov_Tc))\n",
    "print(perr_Tc)"
   ]
  },
  {
   "cell_type": "code",
   "execution_count": null,
   "metadata": {},
   "outputs": [],
   "source": [
    "p_Tc_sus, pcov_Tc_sus = curve_fit(linear, [0.2,0.1,0.05,0.025],Tc_sus_set,sigma=Tc_sus_err )"
   ]
  },
  {
   "cell_type": "code",
   "execution_count": null,
   "metadata": {},
   "outputs": [],
   "source": [
    "print(p_Tc_sus)"
   ]
  },
  {
   "cell_type": "code",
   "execution_count": null,
   "metadata": {},
   "outputs": [],
   "source": [
    "perr_Tc_sus = np.sqrt(np.diag(pcov_Tc_sus))\n",
    "print(perr_Tc_sus)"
   ]
  },
  {
   "cell_type": "code",
   "execution_count": null,
   "metadata": {},
   "outputs": [],
   "source": [
    "p_Tc_shc, pcov_Tc_shc = curve_fit(linear, [0.2,0.1,0.05,0.025],Tc_shc_set,sigma=Tc_shc_err )"
   ]
  },
  {
   "cell_type": "code",
   "execution_count": null,
   "metadata": {},
   "outputs": [],
   "source": [
    "print(p_Tc_shc)"
   ]
  },
  {
   "cell_type": "code",
   "execution_count": null,
   "metadata": {},
   "outputs": [],
   "source": [
    "perr_Tc_shc = np.sqrt(np.diag(pcov_Tc_shc))\n",
    "print(perr_Tc_shc)"
   ]
  }
 ],
 "metadata": {
  "kernelspec": {
   "display_name": "Python 3",
   "language": "python",
   "name": "python3"
  },
  "language_info": {
   "codemirror_mode": {
    "name": "ipython",
    "version": 3
   },
   "file_extension": ".py",
   "mimetype": "text/x-python",
   "name": "python",
   "nbconvert_exporter": "python",
   "pygments_lexer": "ipython3",
   "version": "3.8.5"
  }
 },
 "nbformat": 4,
 "nbformat_minor": 4
}
